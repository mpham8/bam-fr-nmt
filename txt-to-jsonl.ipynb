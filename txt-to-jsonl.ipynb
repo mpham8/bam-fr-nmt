{
 "cells": [
  {
   "cell_type": "code",
   "execution_count": 12,
   "id": "3a127f4b-66f6-49eb-8667-c6da626fe41a",
   "metadata": {},
   "outputs": [],
   "source": [
    "import json"
   ]
  },
  {
   "cell_type": "code",
   "execution_count": 15,
   "id": "19399bd0-273e-4891-8a6a-2ca686e5a785",
   "metadata": {},
   "outputs": [],
   "source": [
    "def txt_to_json(bambara_file, french_file):\n",
    "    bambara_lines = []\n",
    "    french_lines = []\n",
    "    \n",
    "    with open(bambara_file, \"r\") as bf:\n",
    "        bambara_lines = bf.readlines()\n",
    "    \n",
    "    with open(french_file, \"r\") as ff:\n",
    "        french_lines = ff.readlines()\n",
    "    \n",
    "    data = []\n",
    "    for bambara, french in zip(bambara_lines, french_lines):\n",
    "        translation = {\n",
    "            \"translation\": {\n",
    "                \"bam\": bambara.strip(),\n",
    "                \"fr\": french.strip()\n",
    "            }\n",
    "        }\n",
    "        data.append(translation)\n",
    "    \n",
    "    return data"
   ]
  },
  {
   "cell_type": "code",
   "execution_count": 16,
   "id": "dc3fe970-0726-472a-bdc9-f02aabe7ff75",
   "metadata": {},
   "outputs": [],
   "source": [
    "data = txt_to_json(\"data/nllb.train.bam.txt\", \"data/nllb.train.fr.txt\")\n",
    "\n",
    "with open(\"output.jsonl\", \"w\") as f:\n",
    "    for d in data:\n",
    "        f.write(json.dumps(d) + \"\\n\")"
   ]
  },
  {
   "cell_type": "code",
   "execution_count": null,
   "id": "2a03ef98-e5d8-462e-84f2-3c1aed3d5e30",
   "metadata": {},
   "outputs": [],
   "source": []
  }
 ],
 "metadata": {
  "kernelspec": {
   "display_name": "Python 3 (ipykernel)",
   "language": "python",
   "name": "python3"
  },
  "language_info": {
   "codemirror_mode": {
    "name": "ipython",
    "version": 3
   },
   "file_extension": ".py",
   "mimetype": "text/x-python",
   "name": "python",
   "nbconvert_exporter": "python",
   "pygments_lexer": "ipython3",
   "version": "3.9.12"
  }
 },
 "nbformat": 4,
 "nbformat_minor": 5
}
